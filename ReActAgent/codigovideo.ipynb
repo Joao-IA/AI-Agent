{
 "cells": [
  {
   "cell_type": "code",
   "execution_count": 4,
   "metadata": {},
   "outputs": [],
   "source": [
    "import os\n",
    "from dotenv import load_dotenv\n",
    "from groq import Groq"
   ]
  },
  {
   "cell_type": "code",
   "execution_count": 5,
   "metadata": {},
   "outputs": [],
   "source": [
    "#para rodar tudo, é necessário ter uma chave API do Groq, que pode ser obtida em https://groq.io/developers\n",
    "#a minha está em um arquivo dotenv para que não seja exposta, mas você pode colocar a sua diretamente no código\n",
    "load_dotenv()\n",
    "\n",
    "groq_api_key = os.getenv(\"GROQ_API_KEY\")"
   ]
  },
  {
   "cell_type": "code",
   "execution_count": 6,
   "metadata": {},
   "outputs": [
    {
     "name": "stdout",
     "output_type": "stream",
     "text": [
      "Fast language models are crucial in natural language processing (NLP) and have numerous applications in various fields. Here are some reasons why they are important:\n",
      "\n",
      "1. **Improved Responsiveness**: Fast language models enable real-time or near-real-time responses, which is essential for applications like chatbots, virtual assistants, and conversational interfaces. Quick responses enhance user experience and increase engagement.\n",
      "2. **Efficient Processing**: Fast language models can process large amounts of text data quickly, making them suitable for applications that require high-throughput, such as text classification, sentiment analysis, and language translation.\n",
      "3. **Reduced Latency**: In applications like speech recognition, fast language models can reduce latency, enabling faster recognition and response to user input. This is particularly important in situations where timely response is critical, like in voice-controlled systems or real-time translation.\n",
      "4. **Increased Scalability**: Fast language models can handle a large volume of requests or user interactions, making them ideal for large-scale applications, such as social media, customer service, or content moderation.\n",
      "5. **Better User Experience**: Fast language models can provide more accurate and relevant results, leading to a better user experience. For example, in search engines, fast language models can quickly retrieve relevant information, improving the overall search experience.\n",
      "6. **Competitive Advantage**: Organizations that leverage fast language models can gain a competitive advantage by providing faster and more accurate services, such as language translation, text summarization, or content generation.\n",
      "7. **Real-time Analytics**: Fast language models can facilitate real-time analytics, enabling organizations to quickly gain insights from large amounts of text data, such as social media posts, customer feedback, or sentiment analysis.\n",
      "8. **Improved Accessibility**: Fast language models can enhance accessibility by providing quick and accurate language translation, text-to-speech, or speech-to-text capabilities, which can benefit people with disabilities or language barriers.\n",
      "9. **Edge AI Applications**: Fast language models are essential for edge AI applications, where models need to run on devices with limited computational resources, such as smartphones, smart home devices, or autonomous vehicles.\n",
      "10. **Advancements in NLP Research**: Fast language models can accelerate NLP research by enabling researchers to quickly experiment with new ideas, test hypotheses, and explore new applications, driving innovation in the field.\n",
      "\n",
      "To achieve fast language models, researchers and developers employ various techniques, such as:\n",
      "\n",
      "* Model pruning and quantization\n",
      "* Knowledge distillation\n",
      "* Parallel processing and distributed computing\n",
      "* Optimized algorithms and data structures\n",
      "* Specialized hardware, like GPUs or TPUs\n",
      "\n",
      "By leveraging these techniques, fast language models can be developed and deployed, enabling a wide range of applications and use cases that rely on efficient and accurate natural language processing.\n"
     ]
    }
   ],
   "source": [
    "client = Groq(\n",
    "    api_key=groq_api_key,\n",
    ")\n",
    "\n",
    "#note que o groq pega uma lista de mensagens, não uma única string\n",
    "chat_completion = client.chat.completions.create(\n",
    "    #primeiro parametro é a lista de mensagens\n",
    "    messages=[\n",
    "\n",
    "        {\n",
    "\n",
    "            \"role\": \"user\",\n",
    "\n",
    "            \"content\": \"Explain the importance of fast language models\",\n",
    "\n",
    "        }\n",
    "\n",
    "    ],\n",
    "    #segundo parametro é o modelo de linguagem que será usado (é possível setar outro modelo que a API hospeda)\n",
    "    model=\"llama-3.3-70b-versatile\",\n",
    "    \n",
    ")\n",
    "\n",
    "\n",
    "print(chat_completion.choices[0].message.content)\n"
   ]
  },
  {
   "cell_type": "code",
   "execution_count": 7,
   "metadata": {},
   "outputs": [],
   "source": [
    "#Agora vamos criar uma classe de Agente\n",
    "class Agent:\n",
    "    def __init__(self, client, system):\n",
    "        self.client = client #o cliente do groq\n",
    "        self.system = system #o system prompt\n",
    "        self.messages = [] #lista de mensagens\n",
    "        if self.messages is not None:\n",
    "            self.messages.append({\"role\": \"system\", \"content\": self.system})\n",
    "\n",
    "    def __call__(self, message=\"\"):\n",
    "        if message:\n",
    "            self.messages.append({\"role\": \"user\", \"content\": message})\n",
    "        result = self.execute()\n",
    "        self.messages.append({\"role\": \"assistant\", \"content\": result})\n",
    "        return result\n",
    "\n",
    "    def execute(self):\n",
    "        completion = client.chat.completions.create(\n",
    "            messages=self.messages,\n",
    "            model=\"llama-3.3-70b-versatile\",\n",
    "        )\n",
    "        return completion.choices[0].message.content\n"
   ]
  },
  {
   "cell_type": "code",
   "execution_count": 8,
   "metadata": {},
   "outputs": [],
   "source": [
    "system_prompt = \"\"\"\n",
    "You run in a loop of Thought, PAUSE, Action, PAUSE, Observation, PAUSE.\n",
    "At the end of the loop you output an Answer\n",
    "Use Thought to describe your thoughts about the question you have been asked.\n",
    "Use Action to run one of the actions available to you - then return PAUSE.\n",
    "Observation will be the result of running those actions.\n",
    "\n",
    "Your available actions are:\n",
    "\n",
    "calculate:\n",
    "e.g. calculate: 4 * 7 / 3\n",
    "Runs a calculation and returns the number - uses Python so be sure to use floating point syntax if necessary\n",
    "\n",
    "get_planet_mass:\n",
    "e.g. get_planet_mass: Earth\n",
    "Returns the mass of the planet in kg\n",
    "\n",
    "Example session:\n",
    "\n",
    "Question: What is the mass of Earth times 2?\n",
    "Thought: I need to find the mass of the Earth\n",
    "Action: get_planet_mass: Earth\n",
    "PAUSE\n",
    "\n",
    "You will be called again with:\n",
    "\n",
    "Observation: 5.972e24\n",
    "\n",
    "Thought: Now I need to multiply this by 2\n",
    "Action: calculate: 5.972e24 * 2\n",
    "PAUSE\n",
    "\n",
    "If you have the answer, output it as the Answer\n",
    "\n",
    "Answer: The mass of Earth times 2 is 1.1944e25 kg\n",
    "\n",
    "Now it's your turn!\n",
    "\n",
    "\"\"\".strip()"
   ]
  },
  {
   "cell_type": "code",
   "execution_count": 9,
   "metadata": {},
   "outputs": [],
   "source": [
    "#tools\n",
    "def calculate(operation):\n",
    "    return eval(operation)\n",
    "\n",
    "\n",
    "def get_planet_mass(planet):\n",
    "    match planet.lower():\n",
    "        case \"mercury\":\n",
    "            return 3.285e23\n",
    "        case \"venus\":\n",
    "            return 4.867e24\n",
    "        case \"earth\":\n",
    "            return 5.972e24\n",
    "        case \"mars\":\n",
    "            return 6.39e23\n",
    "        case \"jupiter\":\n",
    "            return 1.898e27\n",
    "        case \"saturn\":\n",
    "            return 5.683e26\n",
    "        case \"uranus\":\n",
    "            return 8.681e25\n",
    "        case \"neptune\":\n",
    "            return 1.024e26\n",
    "        case _:\n",
    "            return 0.0\n",
    "\n"
   ]
  },
  {
   "cell_type": "code",
   "execution_count": 10,
   "metadata": {},
   "outputs": [],
   "source": [
    "#inciando o agente\n",
    "neil_tyson = Agent(client, system_prompt)"
   ]
  },
  {
   "cell_type": "code",
   "execution_count": 11,
   "metadata": {},
   "outputs": [
    {
     "name": "stdout",
     "output_type": "stream",
     "text": [
      "Thought: To find the mass of Earth times 5, I first need to determine the mass of Earth. \n",
      "Action: get_planet_mass: Earth\n",
      "PAUSE\n"
     ]
    }
   ],
   "source": [
    "result = neil_tyson(\"What is the mass of Earth times 5?\")\n",
    "\n",
    "print(result)"
   ]
  },
  {
   "cell_type": "code",
   "execution_count": 12,
   "metadata": {},
   "outputs": [
    {
     "data": {
      "text/plain": [
       "[{'role': 'system',\n",
       "  'content': \"You run in a loop of Thought, PAUSE, Action, PAUSE, Observation, PAUSE.\\nAt the end of the loop you output an Answer\\nUse Thought to describe your thoughts about the question you have been asked.\\nUse Action to run one of the actions available to you - then return PAUSE.\\nObservation will be the result of running those actions.\\n\\nYour available actions are:\\n\\ncalculate:\\ne.g. calculate: 4 * 7 / 3\\nRuns a calculation and returns the number - uses Python so be sure to use floating point syntax if necessary\\n\\nget_planet_mass:\\ne.g. get_planet_mass: Earth\\nReturns the mass of the planet in kg\\n\\nExample session:\\n\\nQuestion: What is the mass of Earth times 2?\\nThought: I need to find the mass of the Earth\\nAction: get_planet_mass: Earth\\nPAUSE\\n\\nYou will be called again with:\\n\\nObservation: 5.972e24\\n\\nThought: Now I need to multiply this by 2\\nAction: calculate: 5.972e24 * 2\\nPAUSE\\n\\nIf you have the answer, output it as the Answer\\n\\nAnswer: The mass of Earth times 2 is 1.1944e25 kg\\n\\nNow it's your turn!\"},\n",
       " {'role': 'user', 'content': 'What is the mass of Earth times 5?'},\n",
       " {'role': 'assistant',\n",
       "  'content': 'Thought: To find the mass of Earth times 5, I first need to determine the mass of Earth. \\nAction: get_planet_mass: Earth\\nPAUSE'}]"
      ]
     },
     "execution_count": 12,
     "metadata": {},
     "output_type": "execute_result"
    }
   ],
   "source": [
    "neil_tyson.messages"
   ]
  },
  {
   "cell_type": "code",
   "execution_count": 13,
   "metadata": {},
   "outputs": [
    {
     "name": "stdout",
     "output_type": "stream",
     "text": [
      "\n"
     ]
    }
   ],
   "source": [
    "#Rerodando o agente para ir para a ação\n",
    "result = neil_tyson()\n",
    "print(result)"
   ]
  },
  {
   "cell_type": "code",
   "execution_count": 14,
   "metadata": {},
   "outputs": [
    {
     "name": "stdout",
     "output_type": "stream",
     "text": [
      "5.972e+24\n"
     ]
    }
   ],
   "source": [
    "observation = get_planet_mass(\"Earth\")\n",
    "print(observation)"
   ]
  },
  {
   "cell_type": "code",
   "execution_count": 15,
   "metadata": {},
   "outputs": [
    {
     "name": "stdout",
     "output_type": "stream",
     "text": [
      "Thought: Now that I have the mass of Earth, I can calculate the mass of Earth times 5 by multiplying the observed mass by 5.\n",
      "Action: calculate: 5.972e+24 * 5\n",
      "PAUSE\n"
     ]
    }
   ],
   "source": [
    "#rodar dnv o agente com a observação \n",
    "next_prompt = f\"Observation: {observation}\"\n",
    "result = neil_tyson(next_prompt)\n",
    "print(result)"
   ]
  },
  {
   "cell_type": "code",
   "execution_count": 16,
   "metadata": {},
   "outputs": [
    {
     "data": {
      "text/plain": [
       "[{'role': 'system',\n",
       "  'content': \"You run in a loop of Thought, PAUSE, Action, PAUSE, Observation, PAUSE.\\nAt the end of the loop you output an Answer\\nUse Thought to describe your thoughts about the question you have been asked.\\nUse Action to run one of the actions available to you - then return PAUSE.\\nObservation will be the result of running those actions.\\n\\nYour available actions are:\\n\\ncalculate:\\ne.g. calculate: 4 * 7 / 3\\nRuns a calculation and returns the number - uses Python so be sure to use floating point syntax if necessary\\n\\nget_planet_mass:\\ne.g. get_planet_mass: Earth\\nReturns the mass of the planet in kg\\n\\nExample session:\\n\\nQuestion: What is the mass of Earth times 2?\\nThought: I need to find the mass of the Earth\\nAction: get_planet_mass: Earth\\nPAUSE\\n\\nYou will be called again with:\\n\\nObservation: 5.972e24\\n\\nThought: Now I need to multiply this by 2\\nAction: calculate: 5.972e24 * 2\\nPAUSE\\n\\nIf you have the answer, output it as the Answer\\n\\nAnswer: The mass of Earth times 2 is 1.1944e25 kg\\n\\nNow it's your turn!\"},\n",
       " {'role': 'user', 'content': 'What is the mass of Earth times 5?'},\n",
       " {'role': 'assistant',\n",
       "  'content': 'Thought: To find the mass of Earth times 5, I first need to determine the mass of Earth. \\nAction: get_planet_mass: Earth\\nPAUSE'},\n",
       " {'role': 'assistant', 'content': ''},\n",
       " {'role': 'user', 'content': 'Observation: 5.972e+24'},\n",
       " {'role': 'assistant',\n",
       "  'content': 'Thought: Now that I have the mass of Earth, I can calculate the mass of Earth times 5 by multiplying the observed mass by 5.\\nAction: calculate: 5.972e+24 * 5\\nPAUSE'}]"
      ]
     },
     "execution_count": 16,
     "metadata": {},
     "output_type": "execute_result"
    }
   ],
   "source": [
    "neil_tyson.messages"
   ]
  },
  {
   "cell_type": "code",
   "execution_count": 17,
   "metadata": {},
   "outputs": [
    {
     "name": "stdout",
     "output_type": "stream",
     "text": [
      "\n"
     ]
    }
   ],
   "source": [
    "result = neil_tyson()\n",
    "print(result)"
   ]
  },
  {
   "cell_type": "code",
   "execution_count": 18,
   "metadata": {},
   "outputs": [],
   "source": [
    "#loop\n",
    "import regex as re\n",
    "\n",
    "def agent_loop(max_iterations, system_prompt, query):\n",
    "    agent = Agent(client, system_prompt)\n",
    "    tools = ['calculate', 'get_planet_mass']\n",
    "    next_prompt = query #a primeira mensagem é a query\n",
    "    i=0\n",
    "    while i < max_iterations:\n",
    "        i+=1\n",
    "        result = agent(next_prompt) #toda vez essa função vai retornar a próxima mensagem\n",
    "        print(result)\n",
    "\n",
    "        if \"PAUSE\" in result and \"Action\" in result:\n",
    "            action = re.findall(r\"Action: ([a-z_]+): (.+)\", result, re.IGNORECASE) #vai retornar o nome da ação e os parametros\n",
    "            chosen_tool = action[0][0]\n",
    "            arg = action[0][1]\n",
    "\n",
    "            if chosen_tool in tools:\n",
    "                result = eval(f\"{chosen_tool}('{arg}')\")\n",
    "                next_prompt = f\"Observation: {result}\"\n",
    "\n",
    "            else:\n",
    "                next_prompt = f\"Observation: Tool not found\"\n",
    "\n",
    "            print(next_prompt)\n",
    "            continue\n",
    "        if \"Answer\" in result:\n",
    "            break\n"
   ]
  },
  {
   "cell_type": "code",
   "execution_count": 19,
   "metadata": {},
   "outputs": [
    {
     "name": "stdout",
     "output_type": "stream",
     "text": [
      "Thought: To solve this problem, I need to find the mass of Earth and the mass of Mercury, add them together, and then multiply the result by 5. First, I'll find the mass of Earth.\n",
      "\n",
      "Action: get_planet_mass: Earth\n",
      "PAUSE\n",
      "Observation: 5.972e+24\n",
      "Thought: Now that I have the mass of Earth, I need to find the mass of Mercury.\n",
      "\n",
      "Action: get_planet_mass: Mercury\n",
      "PAUSE\n",
      "Observation: 3.285e+23\n",
      "Thought: Now that I have the masses of both Earth and Mercury, I can add them together and then multiply the result by 5. First, I'll add the masses of Earth and Mercury.\n",
      "\n",
      "Action: calculate: 5.972e+24 + 3.285e+23\n",
      "PAUSE\n",
      "Observation: 6.300500000000001e+24\n",
      "Thought: Now that I have the sum of the masses of Earth and Mercury, I can multiply this result by 5 to get the final answer.\n",
      "\n",
      "Action: calculate: 6.300500000000001e+24 * 5\n",
      "PAUSE\n",
      "Observation: 3.1502500000000004e+25\n",
      "Thought: I have now calculated the mass of Earth plus the mass of Mercury, times 5, so I can provide the final answer.\n",
      "\n",
      "Answer: The mass of Earth plus the mass of Mercury, times 5 is 3.15025e+25 kg\n"
     ]
    }
   ],
   "source": [
    "agent_loop(10, system_prompt, \"What is the mass of Earth plus the mass of Mercury, times 5?\")"
   ]
  },
  {
   "cell_type": "markdown",
   "metadata": {},
   "source": [
    "# Ciclo de um ReAct Agent\n",
    "\n",
    "Primeiramente, nosso agente irá analisar o prompt do sistema, que deve ser algo do tipo:\n",
    "    \"Você trabalhará sempre no seguinte ciclo: primeiro você pensa sobre o problema dado, então você faz a ação necessária, pausa e e verifica se está condizente com o problema. Fique nesse loop até encontrar a resposta final, na qual você entregará ao sistema\"\n",
    "\n",
    "Uma coisa importante para se adicionar ao prompt inicial são as ferramentas disponíveis para uso, para que o sistema fique completo.\n",
    "\n",
    "![A imagen se trata de um print recortado do vídeo, pois o dono do mesmo não colocou o fluxo na descrição e achei muito interessante para visualização](ReACtDiagSimp.png \"Diagrama simplificado\")\n",
    "\n",
    "![Aqui temos a versão detalhada desse fluxo](ReACtDiag.png \"Diagrama detalhado do passo a passo com apenas uma ferramenta ligada ao agente\")\n",
    "\n",
    "Basicamente, temos:\n",
    "1- Usuário pede algo\n",
    "2- Agente utiliza LLM para pensar sobre o problema que precisa resolver\n",
    "3- Utiliza as ferramentas disponíveis para poder solucionar o problema da maneira mais precisa possível\n",
    "4- Coleta a resposta da ferramenta, verifica se a resposta é condizente com o pedido que foi feito\n",
    "5- Envia a resposta ao usuário se estiver satisfatório, caso contrário refaz os passos 2, 3 e 4.\n",
    "\n",
    "# Início da aplicação prática.\n",
    "\n",
    "## O primeiro passo é conseguir uma chave API no groq.\n",
    "\n",
    "Temos que entrar no link do site do Groq\n",
    "[Groq API KEY](https://console.groq.com/playground)\n",
    "\n",
    "## Agora, seguimos para a criação do agente\n",
    "\n",
    "Na documentação do groq, tem uma aba de quickstart. Copiaremos o código de la para iniciar a criação do agente.\n",
    "\n",
    "Primeiro nós testamos a api para ver se está funcionando. Estando tudo ok, partiremos para a criação do Agente. Primeiro criamos a classe agente, e definimos algumas funções do agente.\n",
    "\n",
    "### Class Agent()\n",
    "Temos o agente, e quando iniciamos temos um client se inicializando e o system prompt (loop). Então criamos a lista de mensagens e se essa lista não estiver vazia, nós vamos incluí-la na lista como uma mensagem do sistema, em que terão as instruções primordiais do seu agente.\n",
    "\n",
    "Então temos o metodo call que vai ser acionado toda vez que instanciarmos o Agent (classe). Temos duas possibilidades pra call do agente. A primeira é se caso chamarmos o agente com uma mensagem, então irá armazenar (.append) a mensagem na nossa lista 'messages=[]' e iremos executar a lm, que basicamente irá rodar todas as mensagens no modelo de linguagem (função execute) e irá armazenar tudo no resultado da call do modelo de linguagem e vai retornar esse resultado\n",
    "\n",
    "### System Prompt\n",
    "É um loop que deve fazer o LLM pensar, fazer a ação necessária, pausar, observar se aquilo que fez está correto e só parar esse loop se estiver. O prompt feito é baseado completamente na ideia do ReAcT.\n",
    "\n",
    "### Tools\n",
    "É basicamente as funções que devemos adicionar dos prompts feitos. Creio que se tivéssemos utilizando algum framework para isso, seria muito mais otimizado esse processo de fazer o setup das ferramentas\n",
    "\n",
    "### Rodando o agente manualmente\n",
    "Para rodar o agente manualmente, fizemos um passo a passo geral do nosso agente, manualmente.\n",
    "\n",
    "### Criando um loop para rodar automaticamente\n",
    "Para não ficar dando recall no agente toda vez, nós faremos o processo virar um loop para o agente pensar gradualmente até achar a solução por conta própria.\n",
    "\n",
    "Para funcionar, devemos chamar o agente em um número máximo de iterações, no vídeo utilizamos 10 iterações como exemplo, e iremos rodar o agente e analisar o seu retorno todas as vezes.\n",
    "\n",
    "Basicamente, estamos inicializando o agente, depois damos o nome das nossas ferramentas e daí iniciamos o nosso loop que irá chamar o agente e checar o resultado (passo a passo). Se o resultado incluir PAUSE e Action, deverá pegar o nome da ação (utilizando ReGEx), então o agente deve escolher a ferramenta a ser utilizada, e se conter nas ferramentas que o agente possui, ele executa, caso contrário, ele retorna que não possui a ferramenta ou que não foi possível selecionar a ferramenta correta."
   ]
  }
 ],
 "metadata": {
  "kernelspec": {
   "display_name": "Python 3",
   "language": "python",
   "name": "python3"
  },
  "language_info": {
   "codemirror_mode": {
    "name": "ipython",
    "version": 3
   },
   "file_extension": ".py",
   "mimetype": "text/x-python",
   "name": "python",
   "nbconvert_exporter": "python",
   "pygments_lexer": "ipython3",
   "version": "3.12.9"
  }
 },
 "nbformat": 4,
 "nbformat_minor": 2
}
