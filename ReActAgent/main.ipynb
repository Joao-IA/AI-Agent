{
 "cells": [
  {
   "cell_type": "code",
   "execution_count": 7,
   "metadata": {},
   "outputs": [],
   "source": [
    "import os\n",
    "from dotenv import load_dotenv\n",
    "from groq import Groq"
   ]
  },
  {
   "cell_type": "code",
   "execution_count": 8,
   "metadata": {},
   "outputs": [
    {
     "name": "stdout",
     "output_type": "stream",
     "text": [
      "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\n"
     ]
    }
   ],
   "source": [
    "load_dotenv()\n",
    "\n",
    "groq_api_key = os.getenv(\"GROQ_API_KEY\")\n",
    "print(groq_api_key)"
   ]
  },
  {
   "cell_type": "code",
   "execution_count": 9,
   "metadata": {},
   "outputs": [
    {
     "name": "stdout",
     "output_type": "stream",
     "text": [
      "Fast language models are crucial in today's technology landscape, and their importance can be seen in several areas:\n",
      "\n",
      "1. **Improved User Experience**: Fast language models enable applications to respond quickly to user queries, providing a seamless and efficient experience. This is particularly important in real-time applications such as chatbots, virtual assistants, and language translation software.\n",
      "2. **Enhanced Productivity**: By processing and generating text quickly, fast language models can significantly boost productivity in various industries, including customer service, content creation, and data analysis.\n",
      "3. **Real-Time Applications**: Fast language models are essential for real-time applications such as:\n",
      "\t* Sentiment analysis: quickly analyzing user feedback and sentiment.\n",
      "\t* Chatbots: responding to user queries in real-time.\n",
      "\t* Live translation: translating languages in real-time for international communication.\n",
      "\t* Summarization: generating summaries of long documents or articles quickly.\n",
      "4. **Scalability**: Fast language models can handle large volumes of data and scale to meet the needs of growing applications, making them ideal for:\n",
      "\t* Big data analysis\n",
      "\t* Natural Language Processing (NLP) tasks\n",
      "\t* Machine learning model training\n",
      "5. **Competitiveness**: In today's fast-paced technological landscape, having fast language models can be a competitive advantage. Companies that adopt fast language models can:\n",
      "\t* Respond faster to customer inquiries\n",
      "\t* Generate content more quickly\n",
      "\t* Analyze data in real-time\n",
      "\t* Develop more efficient and effective language-based applications\n",
      "6. **Cost Savings**: Fast language models can help reduce costs by:\n",
      "\t* Automating tasks that would otherwise require human intervention\n",
      "\t* Reducing the need for manual data analysis\n",
      "\t* Minimizing the computational resources required for language processing tasks\n",
      "7. **Accessibility**: Fast language models can improve accessibility by:\n",
      "\t* Enabling real-time language translation for people with disabilities\n",
      "\t* Providing instant text-to-speech functionality for visually impaired users\n",
      "\t* Facilitating communication across language barriers\n",
      "8. **Innovation**: Fast language models can drive innovation by:\n",
      "\t* Enabling the development of new language-based applications\n",
      "\t* Facilitating research in NLP and related fields\n",
      "\t* Paving the way for advancements in areas like voice assistants, language understanding, and human-computer interaction\n",
      "\n",
      "In summary, fast language models are essential for providing efficient, scalable, and innovative solutions in various industries, enabling companies to stay competitive, improve user experience, and drive growth.\n"
     ]
    }
   ],
   "source": [
    "client = Groq(\n",
    "    api_key=groq_api_key,\n",
    ")\n",
    "\n",
    "#note que o groq pega uma lista de mensagens, não uma única string\n",
    "chat_completion = client.chat.completions.create(\n",
    "    #primeiro parametro é a lista de mensagens\n",
    "    messages=[\n",
    "\n",
    "        {\n",
    "\n",
    "            \"role\": \"user\",\n",
    "\n",
    "            \"content\": \"Explain the importance of fast language models\",\n",
    "\n",
    "        }\n",
    "\n",
    "    ],\n",
    "    #segundo parametro é o modelo de linguagem que será usado (é possível setar outro modelo que a API hospeda)\n",
    "    model=\"llama-3.3-70b-versatile\",\n",
    "    \n",
    ")\n",
    "\n",
    "\n",
    "print(chat_completion.choices[0].message.content)\n"
   ]
  },
  {
   "cell_type": "code",
   "execution_count": 10,
   "metadata": {},
   "outputs": [],
   "source": [
    "#Agora vamos criar uma classe de Agente\n",
    "class Agent:\n",
    "    def __init__(self, client, system):\n",
    "        self.client = client #o cliente do groq\n",
    "        self.system = system #o system prompt\n",
    "        self.messages = [] #lista de mensagens\n",
    "        if self.messages is not None:\n",
    "            self.messages.append({\"role\": \"system\", \"content\": self.system})\n",
    "\n",
    "    def __call__(self, message=\"\"):\n",
    "        if message:\n",
    "            self.messages.append({\"role\": \"user\", \"content\": message})\n",
    "        result = self.execute()\n",
    "        self.messages.append({\"role\": \"assistant\", \"content\": result})\n",
    "        return result\n",
    "\n",
    "    def execute(self):\n",
    "        completion = client.chat.completions.create(\n",
    "            messages=self.messages,\n",
    "            model=\"llama-3.3-70b-versatile\",\n",
    "        )\n",
    "        return completion.choices[0].message.content\n"
   ]
  },
  {
   "cell_type": "code",
   "execution_count": 11,
   "metadata": {},
   "outputs": [],
   "source": [
    "system_prompt = \"\"\"\n",
    "You run in a loop of Thought, Action, PAUSE, Observation.\n",
    "At the end of the loop you output an Answer\n",
    "Use Thought to describe your thoughts about the question you have been asked.\n",
    "Use Action to run one of the actions available to you - then return PAUSE.\n",
    "Observation will be the result of running those actions.\n",
    "\n",
    "Your available actions are:\n",
    "\n",
    "calculate:\n",
    "e.g. calculate: 4 * 7 / 3\n",
    "Runs a calculation and returns the number - uses Python so be sure to use floating point syntax if necessary\n",
    "\n",
    "get_planet_mass:\n",
    "e.g. get_planet_mass: Earth\n",
    "Returns the mass of the planet in kg\n",
    "\n",
    "Example session:\n",
    "\n",
    "Question: What is the mass of Earth times 2?\n",
    "Thought: I need to find the mass of the Earth\n",
    "Action: get_planet_mass: Earth\n",
    "PAUSE\n",
    "\n",
    "You will be called again with:\n",
    "\n",
    "Observation: 5.972e24\n",
    "\n",
    "Thought: Now I need to multiply this by 2\n",
    "Action: calculate: 5.972e24 * 2\n",
    "PAUSE\n",
    "\n",
    "If you have the answer, output it as the Answer\n",
    "\n",
    "Answer: The mass of Earth times 2 is 1.1944e25 kg\n",
    "\n",
    "Now it's your turn!\n",
    "\n",
    "\"\"\".strip()"
   ]
  },
  {
   "cell_type": "code",
   "execution_count": 12,
   "metadata": {},
   "outputs": [],
   "source": [
    "#tools\n",
    "def calculate(operation):\n",
    "    return eval(operation)\n",
    "\n",
    "\n",
    "def get_planet_mass(planet):\n",
    "    match planet.lower():\n",
    "        case \"mercury\":\n",
    "            return 3.285e23\n",
    "        case \"venus\":\n",
    "            return 4.867e24\n",
    "        case \"earth\":\n",
    "            return 5.972e24\n",
    "        case \"mars\":\n",
    "            return 6.39e23\n",
    "        case \"jupiter\":\n",
    "            return 1.898e27\n",
    "        case \"saturn\":\n",
    "            return 5.683e26\n",
    "        case \"uranus\":\n",
    "            return 8.681e25\n",
    "        case \"neptune\":\n",
    "            return 1.024e26\n",
    "        case _:\n",
    "            return 0.0\n",
    "\n"
   ]
  },
  {
   "cell_type": "code",
   "execution_count": 13,
   "metadata": {},
   "outputs": [],
   "source": [
    "#inciando o agente\n",
    "neil_tyson = Agent(client, system_prompt)"
   ]
  },
  {
   "cell_type": "code",
   "execution_count": 15,
   "metadata": {},
   "outputs": [
    {
     "name": "stdout",
     "output_type": "stream",
     "text": [
      "Thought: Now that I have the mass of Earth, I can calculate the mass of Earth times 5 by multiplying the mass of Earth by 5.\n",
      "\n",
      "Action: calculate: 5.972e24 * 5\n",
      "PAUSE\n"
     ]
    }
   ],
   "source": [
    "result = neil_tyson(\"What is the mass of Earth times 5?\")\n",
    "\n",
    "print(result)"
   ]
  },
  {
   "cell_type": "code",
   "execution_count": 16,
   "metadata": {},
   "outputs": [
    {
     "data": {
      "text/plain": [
       "[{'role': 'system',\n",
       "  'content': \"You run in a loop of Thought, Action, PAUSE, Observation.\\nAt the end of the loop you output an Answer\\nUse Thought to describe your thoughts about the question you have been asked.\\nUse Action to run one of the actions available to you - then return PAUSE.\\nObservation will be the result of running those actions.\\n\\nYour available actions are:\\n\\ncalculate:\\ne.g. calculate: 4 * 7 / 3\\nRuns a calculation and returns the number - uses Python so be sure to use floating point syntax if necessary\\n\\nget_planet_mass:\\ne.g. get_planet_mass: Earth\\nReturns the mass of the planet in kg\\n\\nExample session:\\n\\nQuestion: What is the mass of Earth times 2?\\nThought: I need to find the mass of the Earth\\nAction: get_planet_mass: Earth\\nPAUSE\\n\\nYou will be called again with:\\n\\nObservation: 5.972e24\\n\\nThought: Now I need to multiply this by 2\\nAction: calculate: 5.972e24 * 2\\nPAUSE\\n\\nIf you have the answer, output it as the Answer\\n\\nAnswer: The mass of Earth times 2 is 1.1944e25 kg\\n\\nNow it's your turn!\"},\n",
       " {'role': 'user', 'content': 'What is the mass of Earth times 5?'},\n",
       " {'role': 'assistant',\n",
       "  'content': 'Thought: To find the mass of Earth times 5, I first need to determine the mass of Earth. \\n\\nAction: get_planet_mass: Earth\\nPAUSE'},\n",
       " {'role': 'user', 'content': 'What is the mass of Earth times 5?'},\n",
       " {'role': 'assistant',\n",
       "  'content': 'Thought: Now that I have the mass of Earth, I can calculate the mass of Earth times 5 by multiplying the mass of Earth by 5.\\n\\nAction: calculate: 5.972e24 * 5\\nPAUSE'}]"
      ]
     },
     "execution_count": 16,
     "metadata": {},
     "output_type": "execute_result"
    }
   ],
   "source": [
    "neil_tyson.messages"
   ]
  },
  {
   "cell_type": "code",
   "execution_count": null,
   "metadata": {},
   "outputs": [],
   "source": [
    "calculate = neil_tyson(\"calculate: 5.972e24 * 5\")"
   ]
  }
 ],
 "metadata": {
  "kernelspec": {
   "display_name": "Python 3",
   "language": "python",
   "name": "python3"
  },
  "language_info": {
   "codemirror_mode": {
    "name": "ipython",
    "version": 3
   },
   "file_extension": ".py",
   "mimetype": "text/x-python",
   "name": "python",
   "nbconvert_exporter": "python",
   "pygments_lexer": "ipython3",
   "version": "3.12.9"
  }
 },
 "nbformat": 4,
 "nbformat_minor": 2
}
